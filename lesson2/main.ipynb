{
  "nbformat": 4,
  "nbformat_minor": 0,
  "metadata": {
    "colab": {
      "name": "Lesson2.ipynb",
      "provenance": [],
      "collapsed_sections": []
    },
    "kernelspec": {
      "name": "python3",
      "display_name": "Python 3"
    },
    "accelerator": "GPU"
  },
  "cells": [
    {
      "cell_type": "code",
      "metadata": {
        "id": "proV8mvoAkhC",
        "colab_type": "code",
        "colab": {}
      },
      "source": [
        "from fastai import *\n",
        "from fastai.vision import *"
      ],
      "execution_count": 0,
      "outputs": []
    },
    {
      "cell_type": "markdown",
      "metadata": {
        "id": "TkFmWAvlGSPh",
        "colab_type": "text"
      },
      "source": [
        "urls = Array.from(document.querySelectorAll('.rg_di .rg_meta')).map(el => JSON.parse(el.textContent).ou);\n",
        "window.open('data:text/csv;charset=utf-8,' + escape(urls.join('\\n')));"
      ]
    },
    {
      "cell_type": "code",
      "metadata": {
        "id": "L9zQJ8mIA9MB",
        "colab_type": "code",
        "colab": {}
      },
      "source": [
        "files = [\"black\", \"teddy\", \"grizzly\"]\n",
        "# from google.colab import files\n",
        "# files.upload()"
      ],
      "execution_count": 0,
      "outputs": []
    },
    {
      "cell_type": "code",
      "metadata": {
        "id": "kla5KWnnC286",
        "colab_type": "code",
        "colab": {}
      },
      "source": [
        "path = Path('data/bears')\n",
        "for f in files:\n",
        "  dest = path/f\n",
        "  dest.mkdir(parents=True, exist_ok=True)\n",
        "  download_images(f + \".txt\", dest, max_pics=200)"
      ],
      "execution_count": 0,
      "outputs": []
    },
    {
      "cell_type": "code",
      "metadata": {
        "id": "4__8Jo-fFIXH",
        "colab_type": "code",
        "colab": {}
      },
      "source": [
        "for c in classes:"
      ],
      "execution_count": 0,
      "outputs": []
    }
  ]
}